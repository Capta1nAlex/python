{
  "nbformat": 4,
  "nbformat_minor": 0,
  "metadata": {
    "colab": {
      "provenance": [],
      "authorship_tag": "ABX9TyPv7u2rdJLiLWu+p3/oBxeC",
      "include_colab_link": true
    },
    "kernelspec": {
      "name": "python3",
      "display_name": "Python 3"
    },
    "language_info": {
      "name": "python"
    }
  },
  "cells": [
    {
      "cell_type": "markdown",
      "metadata": {
        "id": "view-in-github",
        "colab_type": "text"
      },
      "source": [
        "<a href=\"https://colab.research.google.com/github/Capta1nAlex/python/blob/main/11.10.23%20datetime%20homework.ipynb\" target=\"_parent\"><img src=\"https://colab.research.google.com/assets/colab-badge.svg\" alt=\"Open In Colab\"/></a>"
      ]
    },
    {
      "cell_type": "code",
      "execution_count": 1,
      "metadata": {
        "colab": {
          "base_uri": "https://localhost:8080/"
        },
        "id": "Q3_jbOaPlMqb",
        "outputId": "e5f901de-a13e-49c9-99e4-4746b9705401"
      },
      "outputs": [
        {
          "output_type": "stream",
          "name": "stdout",
          "text": [
            "Days: 19671 Hours: 14 Mins: 14 Seconds: 9 Miliseconds: 484\n"
          ]
        }
      ],
      "source": [
        "import time\n",
        "\n",
        "\n",
        "d = int(time.time()/3600/24)\n",
        "h = int(time.time()/3600%24)\n",
        "m = int(time.time()/60%60)\n",
        "s = int(time.time()%60)\n",
        "ms = int(time.time()*1000%1000)\n",
        "print('Days:', d, 'Hours:', h, 'Mins:', m, 'Seconds:', s, 'Miliseconds:', ms)\n"
      ]
    }
  ]
}