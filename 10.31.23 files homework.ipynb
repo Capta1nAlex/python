{
  "nbformat": 4,
  "nbformat_minor": 0,
  "metadata": {
    "colab": {
      "provenance": [],
      "authorship_tag": "ABX9TyPQxEG5we/sZyrCyYKaE1k1",
      "include_colab_link": true
    },
    "kernelspec": {
      "name": "python3",
      "display_name": "Python 3"
    },
    "language_info": {
      "name": "python"
    }
  },
  "cells": [
    {
      "cell_type": "markdown",
      "metadata": {
        "id": "view-in-github",
        "colab_type": "text"
      },
      "source": [
        "<a href=\"https://colab.research.google.com/github/Capta1nAlex/python/blob/main/10.31.2023%20files%20homework.ipynb\" target=\"_parent\"><img src=\"https://colab.research.google.com/assets/colab-badge.svg\" alt=\"Open In Colab\"/></a>"
      ]
    },
    {
      "cell_type": "code",
      "execution_count": 47,
      "metadata": {
        "colab": {
          "base_uri": "https://localhost:8080/"
        },
        "id": "3726Iloo_ajJ",
        "outputId": "d31cf060-01d8-4a62-9e16-df781e66f177"
      },
      "outputs": [
        {
          "output_type": "stream",
          "name": "stdout",
          "text": [
            "studentNumber,name,city,gpa,isUkrainian,birthday\n",
            "\n",
            "1969,Walker,Konia,85.32,False,3/10/1983\n",
            "\n",
            "1755,Fred,Kiev,74.23,True,4/10/2004\n",
            "\n",
            "1725,Oscar,Prague,92.34,True,06/07/2032\n"
          ]
        }
      ],
      "source": [
        "import json\n",
        "\n",
        "file = !wget https://raw.githubusercontent.com/werowe/HypatiaAcademy/master/class/students.csv\n",
        "\n",
        "thisdict = open(\"students.csv\", \"r\")\n",
        "for i in thisdict:\n",
        "    print(i)"
      ]
    }
  ]
}
