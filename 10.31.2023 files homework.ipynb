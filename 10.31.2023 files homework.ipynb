{
  "nbformat": 4,
  "nbformat_minor": 0,
  "metadata": {
    "colab": {
      "provenance": [],
      "authorship_tag": "ABX9TyPVokCZnRoVUpjtf24enInl",
      "include_colab_link": true
    },
    "kernelspec": {
      "name": "python3",
      "display_name": "Python 3"
    },
    "language_info": {
      "name": "python"
    }
  },
  "cells": [
    {
      "cell_type": "markdown",
      "metadata": {
        "id": "view-in-github",
        "colab_type": "text"
      },
      "source": [
        "<a href=\"https://colab.research.google.com/github/Capta1nAlex/python/blob/main/10.31.2023%20files%20homework.ipynb\" target=\"_parent\"><img src=\"https://colab.research.google.com/assets/colab-badge.svg\" alt=\"Open In Colab\"/></a>"
      ]
    },
    {
      "cell_type": "code",
      "execution_count": 44,
      "metadata": {
        "colab": {
          "base_uri": "https://localhost:8080/"
        },
        "id": "3726Iloo_ajJ",
        "outputId": "e3699396-1072-4013-d602-f1fbaac371d4"
      },
      "outputs": [
        {
          "output_type": "stream",
          "name": "stdout",
          "text": [
            "studentNumber,name,city,gpa,isUkrainian,birthday\n",
            "\n",
            "1969,Walker,Konia,85.32,False,3/10/1983\n",
            "\n",
            "1755,Fred,Kiev,74.23,True,4/10/2004\n",
            "\n",
            "1725,Oscar,Prague,92.34,True,06/07/2032\n"
          ]
        }
      ],
      "source": [
        "import json\n",
        "\n",
        "file = !wget https://raw.githubusercontent.com/werowe/HypatiaAcademy/master/class/students.csv\n",
        "\n",
        "thisdict = {\n",
        "  \"studentNumber\": \"\",\n",
        "  \"name\": \"\",\n",
        "  \"city\": \"\",\n",
        "  \"gpa\": 1,\n",
        "  \"isUkrainian\": False,\n",
        "  \"birthday\": 13/3/5\n",
        "}\n",
        "\n",
        "newF = open(\"students.csv\", \"r\")\n",
        "thisdict = open(\"students.csv\", \"r\")\n",
        "for i in thisdict:\n",
        "    print(i)"
      ]
    },
    {
      "cell_type": "code",
      "source": [
        "import pprint\n",
        "stuff = {'avglen': 4.41, 'count:': 93, 'shorts:': ['i', 'a']}\n",
        "pretty = pprint.PrettyPrinter(width=30)\n",
        "pretty.pprint(stuff)\n"
      ],
      "metadata": {
        "colab": {
          "base_uri": "https://localhost:8080/"
        },
        "id": "ZhotRHeILUnv",
        "outputId": "08e8eb7f-e0be-432c-f35a-42c39e05b8b9"
      },
      "execution_count": 23,
      "outputs": [
        {
          "output_type": "stream",
          "name": "stdout",
          "text": [
            "{'avglen': 4.41,\n",
            " 'count:': 93,\n",
            " 'shorts:': ['i', 'a']}\n"
          ]
        }
      ]
    },
    {
      "cell_type": "code",
      "source": [],
      "metadata": {
        "id": "f4MmOTxGGTGz"
      },
      "execution_count": null,
      "outputs": []
    }
  ]
}