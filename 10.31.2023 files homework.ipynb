{
  "nbformat": 4,
  "nbformat_minor": 0,
  "metadata": {
    "colab": {
      "provenance": [],
      "authorship_tag": "ABX9TyNwctnx191vbd3/pB0Mdpxz",
      "include_colab_link": true
    },
    "kernelspec": {
      "name": "python3",
      "display_name": "Python 3"
    },
    "language_info": {
      "name": "python"
    }
  },
  "cells": [
    {
      "cell_type": "markdown",
      "metadata": {
        "id": "view-in-github",
        "colab_type": "text"
      },
      "source": [
        "<a href=\"https://colab.research.google.com/github/Capta1nAlex/python/blob/main/10.31.2023%20files%20homework.ipynb\" target=\"_parent\"><img src=\"https://colab.research.google.com/assets/colab-badge.svg\" alt=\"Open In Colab\"/></a>"
      ]
    },
    {
      "cell_type": "code",
      "execution_count": 45,
      "metadata": {
        "colab": {
          "base_uri": "https://localhost:8080/"
        },
        "id": "3726Iloo_ajJ",
        "outputId": "3bfb54ad-8e53-49e1-9d6a-20a7cd9fc1e2"
      },
      "outputs": [
        {
          "output_type": "stream",
          "name": "stdout",
          "text": [
            "studentNumber,name,city,gpa,isUkrainian,birthday\n",
            "\n",
            "1969,Walker,Konia,85.32,False,3/10/1983\n",
            "\n",
            "1755,Fred,Kiev,74.23,True,4/10/2004\n",
            "\n",
            "1725,Oscar,Prague,92.34,True,06/07/2032\n"
          ]
        }
      ],
      "source": [
        "import json\n",
        "\n",
        "file = !wget https://raw.githubusercontent.com/werowe/HypatiaAcademy/master/class/students.csv\n",
        "\n",
        "thisdict = {\n",
        "  \"studentNumber\": \"\",\n",
        "  \"name\": \"\",\n",
        "  \"city\": \"\",\n",
        "  \"gpa\": 1,\n",
        "  \"isUkrainian\": False,\n",
        "  \"birthday\": 13/3/5\n",
        "}\n",
        "\n",
        "newF = open(\"students.csv\", \"r\")\n",
        "thisdict = open(\"students.csv\", \"r\")\n",
        "for i in thisdict:\n",
        "    print(i)"
      ]
    }
  ]
}