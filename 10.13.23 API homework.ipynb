{
  "nbformat": 4,
  "nbformat_minor": 0,
  "metadata": {
    "colab": {
      "provenance": [],
      "authorship_tag": "ABX9TyNkIES5lKj2XCVXZ+ECd8Tq",
      "include_colab_link": true
    },
    "kernelspec": {
      "name": "python3",
      "display_name": "Python 3"
    },
    "language_info": {
      "name": "python"
    }
  },
  "cells": [
    {
      "cell_type": "markdown",
      "metadata": {
        "id": "view-in-github",
        "colab_type": "text"
      },
      "source": [
        "<a href=\"https://colab.research.google.com/github/Capta1nAlex/python/blob/main/10_13_23_API_homework.ipynb\" target=\"_parent\"><img src=\"https://colab.research.google.com/assets/colab-badge.svg\" alt=\"Open In Colab\"/></a>"
      ]
    },
    {
      "cell_type": "code",
      "execution_count": null,
      "metadata": {
        "id": "AkkN8Y4KxP9s"
      },
      "outputs": [],
      "source": [
        "import requests\n",
        "# Originally I wanted to take some sort of a tournaments resource (either chess or from some computer games from liquipedia.com, but I found their API kind of weird and gave up)\n",
        "req = requests.get('https://httpbin.org/get')\n",
        "\n",
        "print(req.text)"
      ]
    }
  ]
}
