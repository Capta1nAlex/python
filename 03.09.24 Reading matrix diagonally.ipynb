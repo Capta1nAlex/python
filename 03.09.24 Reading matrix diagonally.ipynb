{
  "nbformat": 4,
  "nbformat_minor": 0,
  "metadata": {
    "colab": {
      "provenance": [],
      "authorship_tag": "ABX9TyP4Q+DWj//TUncvWjkobvPl",
      "include_colab_link": true
    },
    "kernelspec": {
      "name": "python3",
      "display_name": "Python 3"
    },
    "language_info": {
      "name": "python"
    }
  },
  "cells": [
    {
      "cell_type": "markdown",
      "metadata": {
        "id": "view-in-github",
        "colab_type": "text"
      },
      "source": [
        "<a href=\"https://colab.research.google.com/github/Capta1nAlex/python/blob/main/03.09.24%20Reading%20matrix%20diagonally.ipynb\" target=\"_parent\"><img src=\"https://colab.research.google.com/assets/colab-badge.svg\" alt=\"Open In Colab\"/></a>"
      ]
    },
    {
      "cell_type": "code",
      "execution_count": 18,
      "metadata": {
        "colab": {
          "base_uri": "https://localhost:8080/"
        },
        "id": "775E6YrHDCOQ",
        "outputId": "5f1834b8-66bc-4eee-8979-53efff3f0015"
      },
      "outputs": [
        {
          "output_type": "stream",
          "name": "stdout",
          "text": [
            "Original Matrix:\n",
            "[[  8  79 116  74]\n",
            " [147  24 177  86]\n",
            " [109 194  92 142]\n",
            " [ 71  49 114 182]]\n",
            "8\n",
            "\n",
            "Diagonal Elements:\n",
            "[8]\n",
            "[79, 147]\n",
            "[116, 24, 109]\n",
            "[74, 177, 194, 71]\n",
            "[86, 92, 49]\n",
            "[142, 114]\n",
            "[182]\n"
          ]
        }
      ],
      "source": [
        "import numpy as np\n",
        "\n",
        "def read_diagonal_elements(matrix):\n",
        "    rows = len(matrix)\n",
        "    cols = len(matrix[0])\n",
        "    diagonal_elements = []\n",
        "    for i in range(rows + cols - 1):\n",
        "        diagonal = []\n",
        "        for j in range(max(0, i - cols + 1), min(i + 1, rows)):\n",
        "            diagonal.append(matrix[j][i - j])\n",
        "        diagonal_elements.append(diagonal)\n",
        "\n",
        "    return diagonal_elements\n",
        "\n",
        "\n",
        "\n",
        "matrix = np.random.randint(1, 201, size=(4, 4)) # creating a matrix of random elements\n",
        "\n",
        "print(\"Original Matrix:\")\n",
        "print(matrix)\n",
        "\n",
        "diagonal_elements = read_diagonal_elements(matrix)\n",
        "print(\"\\nDiagonal Elements:\")\n",
        "for diagonal in diagonal_elements:\n",
        "    print(diagonal)\n",
        "\n"
      ]
    }
  ]
}