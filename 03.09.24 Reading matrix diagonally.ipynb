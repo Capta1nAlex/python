{
  "nbformat": 4,
  "nbformat_minor": 0,
  "metadata": {
    "colab": {
      "provenance": [],
      "authorship_tag": "ABX9TyP4Q+DWj//TUncvWjkobvPl",
      "include_colab_link": true
    },
    "kernelspec": {
      "name": "python3",
      "display_name": "Python 3"
    },
    "language_info": {
      "name": "python"
    }
  },
  "cells": [
    {
      "cell_type": "markdown",
      "metadata": {
        "id": "view-in-github",
        "colab_type": "text"
      },
      "source": [
        "<a href=\"https://colab.research.google.com/github/Capta1nAlex/python/blob/main/03.09.24%20Reading%20matrix%20diagonally.ipynb\" target=\"_parent\"><img src=\"https://colab.research.google.com/assets/colab-badge.svg\" alt=\"Open In Colab\"/></a>"
      ]
    },
    {
      "cell_type": "code",
      "execution_count": 20,
      "metadata": {
        "colab": {
          "base_uri": "https://localhost:8080/"
        },
        "id": "775E6YrHDCOQ",
        "outputId": "5b51493e-d25c-4a18-ac74-6e10a75e1152"
      },
      "outputs": [
        {
          "output_type": "stream",
          "name": "stdout",
          "text": [
            "Original Matrix:\n",
            "[[123 138 188 195]\n",
            " [191  22 191 196]\n",
            " [175  39  59 185]\n",
            " [ 19  61 125  52]]\n",
            "\n",
            "Diagonal Elements:\n",
            "[123]\n",
            "[138, 191]\n",
            "[188, 22, 175]\n",
            "[195, 191, 39, 19]\n",
            "[196, 59, 61]\n",
            "[185, 125]\n",
            "[52]\n"
          ]
        }
      ],
      "source": [
        "import numpy as np\n",
        "\n",
        "def read_diagonal_elements(matrix):\n",
        "    rows = len(matrix)\n",
        "    cols = len(matrix[0])\n",
        "    diagonal_elements = []\n",
        "    for i in range(rows + cols - 1):\n",
        "        diagonal = []\n",
        "        for j in range(max(0, i - cols + 1), min(i + 1, rows)):\n",
        "            diagonal.append(matrix[j][i - j])\n",
        "        diagonal_elements.append(diagonal)\n",
        "\n",
        "    return diagonal_elements\n",
        "\n",
        "\n",
        "\n",
        "matrix = np.random.randint(1, 201, size=(4, 4)) # creating a matrix of random elements\n",
        "\n",
        "print(\"Original Matrix:\")\n",
        "print(matrix)\n",
        "\n",
        "diagonal_elements = read_diagonal_elements(matrix)\n",
        "print(\"\\nDiagonal Elements:\")\n",
        "for diagonal in diagonal_elements:\n",
        "    print(diagonal)\n",
        "\n"
      ]
    }
  ]
}