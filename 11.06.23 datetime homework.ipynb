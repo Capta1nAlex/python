{
  "nbformat": 4,
  "nbformat_minor": 0,
  "metadata": {
    "colab": {
      "provenance": [],
      "authorship_tag": "ABX9TyOKi1lpFL6DAgjnGikrhsC/",
      "include_colab_link": true
    },
    "kernelspec": {
      "name": "python3",
      "display_name": "Python 3"
    },
    "language_info": {
      "name": "python"
    }
  },
  "cells": [
    {
      "cell_type": "markdown",
      "metadata": {
        "id": "view-in-github",
        "colab_type": "text"
      },
      "source": [
        "<a href=\"https://colab.research.google.com/github/Capta1nAlex/python/blob/main/11.06.23%20datetime%20homework.ipynb\" target=\"_parent\"><img src=\"https://colab.research.google.com/assets/colab-badge.svg\" alt=\"Open In Colab\"/></a>"
      ]
    },
    {
      "cell_type": "code",
      "execution_count": 15,
      "metadata": {
        "colab": {
          "base_uri": "https://localhost:8080/"
        },
        "id": "zAGaf5xVG921",
        "outputId": "24a65e63-b6b2-40ef-e9b9-10229087fa45"
      },
      "outputs": [
        {
          "output_type": "stream",
          "name": "stdout",
          "text": [
            "miliseconds passed since epoch: 1699370061776\n",
            "seconds passed since epoch: 1699370062\n",
            "minutes passed since epoch: 28322834\n",
            "hours passed since epoch: 472047\n",
            "days passed since epoch: 19669\n"
          ]
        }
      ],
      "source": [
        "import datetime\n",
        "epoch = datetime.datetime.utcfromtimestamp(0)\n",
        "\n",
        "def unix_time_millis(dt):\n",
        "    return (dt - epoch).total_seconds() * 1000.0\n",
        "\n",
        "print('miliseconds passed since epoch:', round(unix_time_millis(datetime.datetime.now())))\n",
        "print('seconds passed since epoch:', round(unix_time_millis(datetime.datetime.now())/1000))\n",
        "print('minutes passed since epoch:',round(unix_time_millis(datetime.datetime.now())/60000))\n",
        "print('hours passed since epoch:',round(unix_time_millis(datetime.datetime.now())/3600000))\n",
        "print('days passed since epoch:',round(unix_time_millis(datetime.datetime.now())/3600000/24))\n",
        "\n"
      ]
    },
    {
      "cell_type": "code",
      "source": [
        "import time\n",
        "print('miliseconds passed since epoch:', round(time.time()*1000))\n",
        "print('seconds passed since epoch:', round(time.time()))\n",
        "print('minutes passed since epoch:',round(time.time()/60))\n",
        "print('hours passed since epoch:',round(time.time()/3600))\n",
        "print('days passed since epoch:',round(time.time()/3600/24))"
      ],
      "metadata": {
        "colab": {
          "base_uri": "https://localhost:8080/"
        },
        "id": "gtCr_SZ4WOFE",
        "outputId": "e1f78d0a-b913-43c8-e0a6-e84c7748a82f"
      },
      "execution_count": 14,
      "outputs": [
        {
          "output_type": "stream",
          "name": "stdout",
          "text": [
            "miliseconds passed since epoch: 1699370061197\n",
            "seconds passed since epoch: 1699370061\n",
            "minutes passed since epoch: 28322834\n",
            "hours passed since epoch: 472047\n",
            "days passed since epoch: 19669\n"
          ]
        }
      ]
    }
  ]
}